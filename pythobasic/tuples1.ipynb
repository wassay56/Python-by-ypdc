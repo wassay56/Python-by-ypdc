{
 "cells": [
  {
   "cell_type": "code",
   "execution_count": null,
   "id": "44bc7400",
   "metadata": {},
   "outputs": [],
   "source": [
    "# type of data structure which is odered immutable  git "
   ]
  }
 ],
 "metadata": {
  "kernelspec": {
   "display_name": "Python 3",
   "language": "python",
   "name": "python3"
  },
  "language_info": {
   "name": "python",
   "version": "3.13.0"
  }
 },
 "nbformat": 4,
 "nbformat_minor": 5
}
