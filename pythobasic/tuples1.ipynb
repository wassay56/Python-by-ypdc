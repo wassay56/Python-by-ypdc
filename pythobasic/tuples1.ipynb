{
 "cells": [
  {
   "cell_type": "code",
   "execution_count": null,
   "id": "44bc7400",
   "metadata": {},
   "outputs": [],
   "source": [
    "# type of data structure which is odered immutable  git \n",
    "\n",
    "# imumity helps us to maintain \n",
    "# intergity \n",
    "# perform \n",
    "# hasability  helps us to maintain consistency\n",
    "\n"
   ]
  },
  {
   "cell_type": "code",
   "execution_count": 1,
   "id": "634f606b",
   "metadata": {},
   "outputs": [
    {
     "name": "stdout",
     "output_type": "stream",
     "text": [
      "<class 'tuple'>\n",
      "<class 'list'>\n"
     ]
    }
   ],
   "source": [
    "intro = ( 1 ,2,3,4)\n",
    "intro_1 = [1,2,3,4]\n",
    "  \n",
    "\n",
    "print(type(intro))\n",
    "print(type(intro_1))"
   ]
  },
  {
   "cell_type": "code",
   "execution_count": 2,
   "id": "6236943f",
   "metadata": {},
   "outputs": [],
   "source": [
    "tupple_1 = ()\n",
    "tupple_2 = (1, 2, 3, 4)\n",
    "tupple_3 = ('wassay',5, 6, 7, 8)"
   ]
  },
  {
   "cell_type": "code",
   "execution_count": 3,
   "id": "40db7790",
   "metadata": {},
   "outputs": [
    {
     "name": "stdout",
     "output_type": "stream",
     "text": [
      "()\n",
      "(1, 2, 3, 4)\n",
      "('wassay', 5, 6, 7, 8)\n"
     ]
    }
   ],
   "source": [
    "print(tupple_1)\n",
    "print(tupple_2)\n",
    "print(tupple_3)"
   ]
  },
  {
   "cell_type": "code",
   "execution_count": 4,
   "id": "13746d74",
   "metadata": {},
   "outputs": [
    {
     "name": "stdout",
     "output_type": "stream",
     "text": [
      "<class 'int'>\n"
     ]
    }
   ],
   "source": [
    "# creating a single tuple\n",
    "\n",
    "single_tuple = (1)\n",
    "print(type(single_tuple))\n"
   ]
  },
  {
   "cell_type": "code",
   "execution_count": 5,
   "id": "1704dad6",
   "metadata": {},
   "outputs": [
    {
     "name": "stdout",
     "output_type": "stream",
     "text": [
      "<class 'tuple'>\n"
     ]
    }
   ],
   "source": [
    "# it showing integers so to make a tuple add the comma \n",
    "\n",
    "single_tuple_1 = (1,)\n",
    "print(type(single_tuple_1))\n"
   ]
  }
 ],
 "metadata": {
  "kernelspec": {
   "display_name": "Python 3",
   "language": "python",
   "name": "python3"
  },
  "language_info": {
   "codemirror_mode": {
    "name": "ipython",
    "version": 3
   },
   "file_extension": ".py",
   "mimetype": "text/x-python",
   "name": "python",
   "nbconvert_exporter": "python",
   "pygments_lexer": "ipython3",
   "version": "3.13.0"
  }
 },
 "nbformat": 4,
 "nbformat_minor": 5
}
