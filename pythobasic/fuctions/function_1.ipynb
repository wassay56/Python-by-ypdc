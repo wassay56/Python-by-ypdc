{
 "cells": [
  {
   "cell_type": "markdown",
   "id": "18375eb0",
   "metadata": {},
   "source": [
    " A function is a reuseable used of code that is use in my many tasks \n",
    "\n",
    " why to create function\n",
    " resuable \n",
    " better organization \n",
    " avoid repitition \n",
    " easy debuging \n",
    "\n",
    " # what we will do in today class\n",
    "   function creation and call \n",
    "   returning\n",
    "   basic syntax and sementic \n",
    "   local and global variables\n",
    "   parameters vs agruments \n",
    "   lamba and map function "
   ]
  },
  {
   "cell_type": "code",
   "execution_count": null,
   "id": "4ee62cc8",
   "metadata": {},
   "outputs": [],
   "source": [
    "# syntax \n",
    " def func_name(parameters):\n",
    "\n",
    " #   "
   ]
  },
  {
   "cell_type": "code",
   "execution_count": 2,
   "id": "afe0c111",
   "metadata": {},
   "outputs": [],
   "source": [
    "def crop_yield(area, yield_per_hectare):\n",
    "   ### to calculate the total crop yield \n",
    "    return area * yield_per_hectare\n",
    "\n",
    "    print(crop_yield(40,2))\n"
   ]
  },
  {
   "cell_type": "code",
   "execution_count": 4,
   "id": "a7c73e28",
   "metadata": {},
   "outputs": [
    {
     "name": "stdout",
     "output_type": "stream",
     "text": [
      "100\n"
     ]
    }
   ],
   "source": [
    "print(crop_yield(50,2))"
   ]
  },
  {
   "cell_type": "code",
   "execution_count": null,
   "id": "bc0aa2eb",
   "metadata": {},
   "outputs": [],
   "source": [
    "# even or odd\n",
    "\n",
    "def even_or_odd(number):\n",
    "    if number % 2 == 0:\n",
    "        return \"even\"\n",
    "    else:\n",
    "        return \"odd\"\n"
   ]
  },
  {
   "cell_type": "code",
   "execution_count": null,
   "id": "779d1574",
   "metadata": {},
   "outputs": [
    {
     "name": "stdout",
     "output_type": "stream",
     "text": [
      "odd\n"
     ]
    }
   ],
   "source": [
    "# callimg function \n",
    "print(even_or_odd(43))"
   ]
  },
  {
   "cell_type": "code",
   "execution_count": 14,
   "id": "d6d81005",
   "metadata": {},
   "outputs": [],
   "source": [
    "# parameters vs Arguments\n",
    "\n",
    "# function with default parameters \n",
    "\n",
    "\n",
    "def greet(name= \"guest\"):\n",
    "    print(f\"welcome {name}\")\n"
   ]
  },
  {
   "cell_type": "code",
   "execution_count": 22,
   "id": "3409ef4e",
   "metadata": {},
   "outputs": [],
   "source": [
    "# positional parameters \n",
    "def greet(name, age):\n",
    "    print(f\"welcome {name}, your {age} is year\")\n"
   ]
  },
  {
   "cell_type": "code",
   "execution_count": 23,
   "id": "6abdf550",
   "metadata": {},
   "outputs": [
    {
     "name": "stdout",
     "output_type": "stream",
     "text": [
      "welcome Wassay, your 20 is year\n",
      "None\n"
     ]
    }
   ],
   "source": [
    "print(greet(\"Wassay\", 20))"
   ]
  },
  {
   "cell_type": "code",
   "execution_count": 25,
   "id": "47e30ba5",
   "metadata": {},
   "outputs": [
    {
     "name": "stdout",
     "output_type": "stream",
     "text": [
      "15\n"
     ]
    }
   ],
   "source": [
    "# variable_length_symbol \n",
    "\n",
    "def total_sum(numbers):\n",
    "    return sum(numbers)\n",
    "print(total_sum([1, 2, 3, 4, 5]))"
   ]
  },
  {
   "cell_type": "code",
   "execution_count": 27,
   "id": "bf6e399a",
   "metadata": {},
   "outputs": [],
   "source": [
    "# understanding default and positional \n",
    "\n",
    "# fertilizer needed \n",
    "\n",
    "def fertilizer_needed(crop_type, area, rate_per_acre=50):\n",
    "    return area * rate_per_acre "
   ]
  },
  {
   "cell_type": "code",
   "execution_count": 30,
   "id": "1781287a",
   "metadata": {},
   "outputs": [
    {
     "name": "stdout",
     "output_type": "stream",
     "text": [
      "2000\n",
      "600\n"
     ]
    }
   ],
   "source": [
    "print(fertilizer_needed(\"wheat\", 40))  # using default parameter  rate_per_acre\n",
    "\n",
    "print(fertilizer_needed(\"rice\", 30, 20))  # using custom parameter rate_per_acre\n"
   ]
  },
  {
   "cell_type": "code",
   "execution_count": null,
   "id": "a909c66d",
   "metadata": {},
   "outputs": [],
   "source": [
    "# types of function \n",
    "\n",
    "# built-in function sum(), print(), len()\n",
    " # user defined functions\n"
   ]
  },
  {
   "cell_type": "code",
   "execution_count": 37,
   "id": "86d01b83",
   "metadata": {},
   "outputs": [],
   "source": [
    "# positional vs keyword arguments\n",
    "\n",
    "def print_function(*args):\n",
    "    for arg in args:\n",
    "      print(arg)\n",
    "\n",
    "    print_function(\"wassay\", \"book lover \",\"1\" , \"2\")\n"
   ]
  },
  {
   "cell_type": "code",
   "execution_count": 40,
   "id": "d4167a13",
   "metadata": {},
   "outputs": [],
   "source": [
    "# keyword \n",
    "\n",
    "def print_function(**kwargs):\n",
    "    for key, value in kwargs.items():\n",
    "        print(f\"{key}: {value}\")\n",
    " \n",
    "    print_function(name=\"wassay\", hobby=\"book lover\", age=1, number=2)"
   ]
  },
  {
   "cell_type": "code",
   "execution_count": 43,
   "id": "b1888189",
   "metadata": {},
   "outputs": [
    {
     "name": "stdout",
     "output_type": "stream",
     "text": [
      "160.0\n"
     ]
    }
   ],
   "source": [
    "def average_growth(height, weight):\n",
    "    return sum(height) / len(height)\n",
    "\n",
    "\n",
    "growth = average_growth([150, 160, 170], [50, 60, 70])\n",
    "print(growth)\n"
   ]
  },
  {
   "cell_type": "code",
   "execution_count": 44,
   "id": "c6ba82fb",
   "metadata": {},
   "outputs": [
    {
     "name": "stdout",
     "output_type": "stream",
     "text": [
      "average growth 160.0\n"
     ]
    }
   ],
   "source": [
    "print(\"average growth\" , growth)"
   ]
  },
  {
   "cell_type": "code",
   "execution_count": 46,
   "id": "f741838c",
   "metadata": {},
   "outputs": [],
   "source": [
    "# error handling \n",
    "def divide_numbers(num1, num2):\n",
    "    try:\n",
    "        result = num1 / num2\n",
    "    except ZeroDivisionError:\n",
    "        return \"Error: Division by zero is not allowed.\"\n",
    "    except TypeError:\n",
    "        return \"Error: Please provide numbers only.\"\n",
    "    else:\n",
    "        return result\n",
    " "
   ]
  },
  {
   "cell_type": "code",
   "execution_count": 47,
   "id": "295f73a8",
   "metadata": {},
   "outputs": [
    {
     "name": "stdout",
     "output_type": "stream",
     "text": [
      "5.0\n",
      "Error: Division by zero is not allowed.\n",
      "Error: Please provide numbers only.\n"
     ]
    }
   ],
   "source": [
    "print(divide_numbers(10, 2))\n",
    "print(divide_numbers(10, 0))\n",
    "print(divide_numbers(10, \"a\"))"
   ]
  },
  {
   "cell_type": "code",
   "execution_count": 53,
   "id": "b998d93a",
   "metadata": {},
   "outputs": [
    {
     "data": {
      "text/plain": [
       "1600"
      ]
     },
     "execution_count": 53,
     "metadata": {},
     "output_type": "execute_result"
    }
   ],
   "source": [
    "# function return with keyword only \n",
    "def square(a):\n",
    "    result = a ** 2\n",
    "    return result \n",
    "\n",
    "square(7)\n",
    "square(9)\n",
    "square(40)\n",
    "\n"
   ]
  },
  {
   "cell_type": "code",
   "execution_count": 61,
   "id": "e13267eb",
   "metadata": {},
   "outputs": [
    {
     "name": "stdout",
     "output_type": "stream",
     "text": [
      "64\n"
     ]
    }
   ],
   "source": [
    "# lambda argument\n",
    "\n",
    "cube = lambda x: x ** 3\n",
    "\n",
    "print(cube(4))\n"
   ]
  },
  {
   "cell_type": "code",
   "execution_count": 63,
   "id": "b283e34e",
   "metadata": {},
   "outputs": [
    {
     "data": {
      "text/plain": [
       "False"
      ]
     },
     "execution_count": 63,
     "metadata": {},
     "output_type": "execute_result"
    }
   ],
   "source": [
    "# map function \n",
    "num_list = [1, 2, 3, 4, 5]\n",
    "even = lambda x: x % 2 == 0\n",
    "\n",
    "even(4)\n",
    "even(5)\n",
    "\n"
   ]
  },
  {
   "cell_type": "code",
   "execution_count": 65,
   "id": "da5411c8",
   "metadata": {},
   "outputs": [
    {
     "data": {
      "text/plain": [
       "[False, True, False, True, False]"
      ]
     },
     "execution_count": 65,
     "metadata": {},
     "output_type": "execute_result"
    }
   ],
   "source": [
    "map(even, num_list)\n",
    "\n",
    "list(map(even, num_list))"
   ]
  },
  {
   "cell_type": "code",
   "execution_count": 68,
   "id": "ade83782",
   "metadata": {},
   "outputs": [
    {
     "name": "stdout",
     "output_type": "stream",
     "text": [
      "[None, 1024, 3364, 64, 25]\n"
     ]
    }
   ],
   "source": [
    "# map function in simple function\n",
    "\n",
    "def square(num):\n",
    "    if num>4:\n",
    "        return num ** 2\n",
    "\n",
    "num_3 = [1, 32, 58, 8, 5]\n",
    "squared_result = list(map(square, num_3))\n",
    "\n",
    "print(squared_result)"
   ]
  },
  {
   "cell_type": "code",
   "execution_count": 70,
   "id": "de27c21d",
   "metadata": {},
   "outputs": [
    {
     "name": "stdout",
     "output_type": "stream",
     "text": [
      "[23, 25, 27, 29]\n"
     ]
    }
   ],
   "source": [
    "# filter function\n",
    "\n",
    "def odd(num):\n",
    "    if num % 2 != 0:\n",
    "        return True\n",
    "num_4 = [22,23,24,25,26,27,28,29,30] \n",
    "\n",
    "filter_numbers = list(filter(odd, num_4))\n",
    "\n",
    "print(filter_numbers)\n"
   ]
  },
  {
   "cell_type": "code",
   "execution_count": 75,
   "id": "d0485e1f",
   "metadata": {},
   "outputs": [],
   "source": [
    "# soil tool kit \n",
    "\n",
    "def soil_moisture_level(moisture):\n",
    "    if moisture < 30:\n",
    "        return \"dry\"\n",
    "    elif moisture < 60:\n",
    "        return \"optimal\"\n",
    "    else:\n",
    "        return \"moist\"\n",
    "\n",
    "def fertilizer(ph):\n",
    "    if ph < 7:\n",
    "        return \"need lime fertilizer\"\n",
    "    elif ph == 7:\n",
    "        return \"neutral pH, no fertilizer needed\"\n",
    "    else:\n",
    "        return \"need alkaline fertilizer\"\n",
    "\n",
    "def yield_estimate(area, productivity):\n",
    "    \"\"\"Estimate the yield based on area and productivity\"\"\"\n",
    "    return area * productivity\n"
   ]
  },
  {
   "cell_type": "code",
   "execution_count": 76,
   "id": "a06d0ec9",
   "metadata": {},
   "outputs": [
    {
     "name": "stdout",
     "output_type": "stream",
     "text": [
      "optimal\n",
      "need lime fertilizer\n",
      "280\n"
     ]
    }
   ],
   "source": [
    "#testing\n",
    "\n",
    "print(soil_moisture_level(50))\n",
    "print(fertilizer(6.5))\n",
    "print(yield_estimate(70, 4))"
   ]
  },
  {
   "cell_type": "code",
   "execution_count": 77,
   "id": "186b8856",
   "metadata": {},
   "outputs": [
    {
     "name": "stdout",
     "output_type": "stream",
     "text": [
      "moist\n",
      "need alkaline fertilizer\n",
      "4000\n"
     ]
    }
   ],
   "source": [
    "print(soil_moisture_level(70))\n",
    "print(fertilizer(10))\n",
    "print(yield_estimate(200, 20))"
   ]
  }
 ],
 "metadata": {
  "kernelspec": {
   "display_name": "Python 3",
   "language": "python",
   "name": "python3"
  },
  "language_info": {
   "codemirror_mode": {
    "name": "ipython",
    "version": 3
   },
   "file_extension": ".py",
   "mimetype": "text/x-python",
   "name": "python",
   "nbconvert_exporter": "python",
   "pygments_lexer": "ipython3",
   "version": "3.13.0"
  }
 },
 "nbformat": 4,
 "nbformat_minor": 5
}
