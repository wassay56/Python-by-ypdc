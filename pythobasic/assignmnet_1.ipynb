{
 "cells": [
  {
   "cell_type": "markdown",
   "id": "7177605b",
   "metadata": {},
   "source": [
    "to sumarize the soil tool kit in one step "
   ]
  },
  {
   "cell_type": "code",
   "execution_count": 3,
   "id": "0240c95c",
   "metadata": {},
   "outputs": [],
   "source": [
    "def soil_moisture_status(moisture):\n",
    "    if moisture < 30:\n",
    "        return \"Dry\"\n",
    "    elif moisture <=60:\n",
    "        return \"optimal\"\n",
    "    else:\n",
    "        return \"moist\"\n",
    "    \n",
    "def fertilizer(ph):\n",
    "    if ph < 7 :\n",
    "        return \"lime\"\n",
    "    elif ph > 7:\n",
    "        return \"need sulfur\"\n",
    "    else:\n",
    "        return \"no fertilizer needed\"\n",
    "    \n",
    "    \n",
    "def yeild_estimate(area,productivity):\n",
    "    \"\"\"\"productivity \"\"\"\n",
    "    return area*productivity"
   ]
  },
  {
   "cell_type": "code",
   "execution_count": 4,
   "id": "0f1a9e3d",
   "metadata": {},
   "outputs": [],
   "source": [
    "soil_moisture_status = lambda m: \"Dry\" if m < 30 else (\"optimal\" if m <= 60 else \"moist\")\n",
    "fertilizer = lambda ph: \"lime\" if ph < 7 else (\"need sulfur\" if ph > 7 else \"no fertilizer needed\")\n",
    "yield_estimate = lambda area, productivity: area * productivity\n"
   ]
  },
  {
   "cell_type": "code",
   "execution_count": 5,
   "id": "4100a178",
   "metadata": {},
   "outputs": [
    {
     "name": "stdout",
     "output_type": "stream",
     "text": [
      "Dry\n",
      "lime\n",
      "500\n"
     ]
    }
   ],
   "source": [
    "print(soil_moisture_status(25))     # Dry\n",
    "print(fertilizer(6))                # no fertilizer needed\n",
    "print(yield_estimate(10, 50)) # 500"
   ]
  },
  {
   "cell_type": "code",
   "execution_count": 6,
   "id": "49e14201",
   "metadata": {},
   "outputs": [
    {
     "ename": "ValueError",
     "evalue": "invalid literal for int() with base 10: ''",
     "output_type": "error",
     "traceback": [
      "\u001b[31m---------------------------------------------------------------------------\u001b[39m",
      "\u001b[31mValueError\u001b[39m                                Traceback (most recent call last)",
      "\u001b[36mCell\u001b[39m\u001b[36m \u001b[39m\u001b[32mIn[6]\u001b[39m\u001b[32m, line 1\u001b[39m\n\u001b[32m----> \u001b[39m\u001b[32m1\u001b[39m soil_moisture = \u001b[38;5;28;43mint\u001b[39;49m\u001b[43m(\u001b[49m\u001b[38;5;28;43minput\u001b[39;49m\u001b[43m(\u001b[49m\u001b[33;43m\"\u001b[39;49m\u001b[33;43mEnter your soil moisture: \u001b[39;49m\u001b[33;43m\"\u001b[39;49m\u001b[43m)\u001b[49m\u001b[43m)\u001b[49m\n\u001b[32m      2\u001b[39m fertilizer_ph = \u001b[38;5;28mfloat\u001b[39m(\u001b[38;5;28minput\u001b[39m(\u001b[33m\"\u001b[39m\u001b[33mEnter your pH level: \u001b[39m\u001b[33m\"\u001b[39m))\n\u001b[32m      3\u001b[39m area = \u001b[38;5;28mint\u001b[39m(\u001b[38;5;28minput\u001b[39m(\u001b[33m\"\u001b[39m\u001b[33mEnter your area: \u001b[39m\u001b[33m\"\u001b[39m))\n",
      "\u001b[31mValueError\u001b[39m: invalid literal for int() with base 10: ''"
     ]
    }
   ],
   "source": [
    "soil_moisture = int(input(\"Enter your soil moisture: \"))\n",
    "fertilizer_ph = float(input(\"Enter your pH level: \"))\n",
    "area = int(input(\"Enter your area: \"))\n",
    "productivity = int(input(\"Enter your productivity: \"))\n",
    "\n",
    "soil_moisture = lambda m: \"dry\" if m < 30 else (\"optimal\" if m <= 60 else \"moist\")\n",
    "fertilizer = lambda ph: \"lime\" if ph < 7 else (\"need sulfur\" if ph > 7 else \"no fertilizer needed\") \n",
    "yield_estimate = lambda area, productivity: area * productivity"
   ]
  },
  {
   "cell_type": "code",
   "execution_count": null,
   "id": "8d32ed45",
   "metadata": {},
   "outputs": [
    {
     "ename": "ValueError",
     "evalue": "invalid literal for int() with base 10: ''",
     "output_type": "error",
     "traceback": [
      "\u001b[31m---------------------------------------------------------------------------\u001b[39m",
      "\u001b[31mValueError\u001b[39m                                Traceback (most recent call last)",
      "\u001b[36mCell\u001b[39m\u001b[36m \u001b[39m\u001b[32mIn[1]\u001b[39m\u001b[32m, line 1\u001b[39m\n\u001b[32m----> \u001b[39m\u001b[32m1\u001b[39m moisture = \u001b[38;5;28;43mint\u001b[39;49m\u001b[43m(\u001b[49m\u001b[38;5;28;43minput\u001b[39;49m\u001b[43m(\u001b[49m\u001b[33;43m\"\u001b[39;49m\u001b[33;43mEnter your soil moisture: \u001b[39;49m\u001b[33;43m\"\u001b[39;49m\u001b[43m)\u001b[49m\u001b[43m)\u001b[49m\n\u001b[32m      2\u001b[39m ph = \u001b[38;5;28mfloat\u001b[39m(\u001b[38;5;28minput\u001b[39m(\u001b[33m\"\u001b[39m\u001b[33mEnter your pH level: \u001b[39m\u001b[33m\"\u001b[39m))\n\u001b[32m      3\u001b[39m area = \u001b[38;5;28mint\u001b[39m(\u001b[38;5;28minput\u001b[39m(\u001b[33m\"\u001b[39m\u001b[33mEnter your area: \u001b[39m\u001b[33m\"\u001b[39m))\n",
      "\u001b[31mValueError\u001b[39m: invalid literal for int() with base 10: ''"
     ]
    }
   ],
   "source": [
    "moisture = int(input(\"Enter your soil moisture: \"))\n",
    "ph = float(input(\"Enter your pH level: \"))\n",
    "area = int(input(\"Enter your area: \"))\n",
    "productivity = int(input(\"Enter your productivity: \"))\n",
    "\n",
    "# define functions\n",
    "soil_moisture_status = lambda m: \"dry\" if m < 30 else (\"optimal\" if m <= 60 else \"moist\")\n",
    "fertilizer = lambda ph: \"lime\" if ph < 7 else (\"need sulfur\" if ph > 7 else \"no fertilizer needed\")\n",
    "yield_estimate = lambda area, productivity: area * productivity\n",
    "\n",
    "# run them\n",
    "print(\"Soil status:\", soil_moisture_status(moisture))\n",
    "print(\"Fertilizer:\", fertilizer(ph))\n",
    "print(\"Yield estimate:\", yield_estimate(area, productivity))"
   ]
  },
  {
   "cell_type": "code",
   "execution_count": null,
   "id": "9fd2553b",
   "metadata": {},
   "outputs": [
    {
     "name": "stdout",
     "output_type": "stream",
     "text": [
      "Soil status: dry\n",
      "Fertilizer: no fertilizer needed\n",
      "Yield estimate: 80\n"
     ]
    }
   ],
   "source": [
    "try:\n",
    "    moisture = int(input(\"Enter your soil moisture: \"))\n",
    "    ph = float(input(\"Enter your pH level: \"))\n",
    "    area = int(input(\"Enter your area: \"))\n",
    "    productivity = int(input(\"Enter your productivity: \"))\n",
    "except ValueError:\n",
    "    print(\"Please enter valid numbers only!\")\n",
    "    exit()\n",
    "\n",
    "soil_moisture_status = lambda m: \"dry\" if m < 30 else (\"optimal\" if m <= 60 else \"moist\")\n",
    "fertilizer = lambda ph: \"lime\" if ph < 7 else (\"need sulfur\" if ph > 7 else \"no fertilizer needed\")\n",
    "yield_estimate = lambda area, productivity: area * productivity\n",
    "\n",
    "print(\"Soil status:\", soil_moisture_status(moisture))\n",
    "print(\"Fertilizer:\", fertilizer(ph))\n",
    "print(\"Yield estimate:\", yield_estimate(area, productivity))"
   ]
  }
 ],
 "metadata": {
  "kernelspec": {
   "display_name": "Python 3",
   "language": "python",
   "name": "python3"
  },
  "language_info": {
   "codemirror_mode": {
    "name": "ipython",
    "version": 3
   },
   "file_extension": ".py",
   "mimetype": "text/x-python",
   "name": "python",
   "nbconvert_exporter": "python",
   "pygments_lexer": "ipython3",
   "version": "3.13.0"
  }
 },
 "nbformat": 4,
 "nbformat_minor": 5
}
