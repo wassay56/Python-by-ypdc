{
 "cells": [
  {
   "cell_type": "markdown",
   "id": "e1ffed9d",
   "metadata": {},
   "source": [
    "help you computer to make decision \n",
    " # condition logics like if else elif \n",
    " # loop for while \n",
    " # control statement like pass,continue,break  "
   ]
  },
  {
   "cell_type": "code",
   "execution_count": 1,
   "id": "87552c68",
   "metadata": {},
   "outputs": [
    {
     "name": "stdout",
     "output_type": "stream",
     "text": [
      "you are eligible to vote\n"
     ]
    }
   ],
   "source": [
    "# if example\n",
    "\n",
    "age = int(input(\"enter your age :\"))\n",
    "\n",
    "if age > 18 :\n",
    "    print(\"you are eligible to vote\")\n",
    "\n",
    "else:\n",
    "    print(\"you are not eligible to vote\")\n"
   ]
  },
  {
   "cell_type": "code",
   "execution_count": null,
   "id": "19424d76",
   "metadata": {},
   "outputs": [
    {
     "name": "stdout",
     "output_type": "stream",
     "text": [
      "This is a prokaryotic .\n"
     ]
    }
   ],
   "source": [
    " \n",
    "cell_type = input(\"Enter cell type: \")\n",
    "\n",
    "if cell_type == \"prokaryotes\":\n",
    "    print(\"This is a prokaryotic .\")\n",
    "elif cell_type == \"eukaryotes\":\n",
    "    print(\"This is a eukaryotic .\")\n",
    "else:\n",
    "    print(\"you are not living organisms.\")\n"
   ]
  },
  {
   "cell_type": "code",
   "execution_count": null,
   "id": "4563be93",
   "metadata": {},
   "outputs": [
    {
     "name": "stdout",
     "output_type": "stream",
     "text": [
      "has a nucleus.\n"
     ]
    }
   ],
   "source": [
    "# has nucleus or not\n",
    "cell_type = input(\"Enter cell type: \")\n",
    "\n",
    "if cell_type == \"prokaryotes\":\n",
    "    print(\"has no nucleus.\")\n",
    "elif cell_type == \"eukaryotes\":\n",
    "    print(\"has a nucleus.\")\n",
    "else:\n",
    "    print(\"you are not living organisms.\")\n"
   ]
  },
  {
   "cell_type": "code",
   "execution_count": 9,
   "id": "4a773983",
   "metadata": {},
   "outputs": [
    {
     "name": "stdout",
     "output_type": "stream",
     "text": [
      "Patient's temperature is normal.\n"
     ]
    }
   ],
   "source": [
    "# patient temperature\n",
    "temperature = float(input(\"Enter patient temperature in Celsius: \"))\n",
    "\n",
    "if temperature > 37.5:\n",
    "    print(\"Patient has a fever.\")\n",
    "elif 36.0 <= temperature <= 37.5:\n",
    "    print(\"Patient's temperature is normal.\")\n",
    "else:\n",
    "    print(\"Patient has hypothermia.\")\n"
   ]
  },
  {
   "cell_type": "code",
   "execution_count": 10,
   "id": "729c8444",
   "metadata": {},
   "outputs": [
    {
     "name": "stdout",
     "output_type": "stream",
     "text": [
      "Patient has a fever.\n"
     ]
    }
   ],
   "source": [
    "# patient temperature\n",
    "temperature = float(input(\"Enter patient temperature in Celsius: \"))\n",
    "\n",
    "if temperature > 37.5:\n",
    "    print(\"Patient has a fever.\")\n",
    "elif 36.0 <= temperature <= 37.5:\n",
    "    print(\"Patient's temperature is normal.\")\n",
    "else:\n",
    "    print(\"Patient has hypothermia.\")"
   ]
  },
  {
   "cell_type": "code",
   "execution_count": 11,
   "id": "5215d36f",
   "metadata": {},
   "outputs": [
    {
     "name": "stdout",
     "output_type": "stream",
     "text": [
      "Result: 0.6666666666666666\n"
     ]
    }
   ],
   "source": [
    "# advance calculator using if and else \n",
    "\n",
    "num_1=int(input(\"Enter first number: \"))\n",
    "num_2=int(input(\"Enter second number: \"))\n",
    "operation=input(\"Enter operation (+, -, *, /): \")\n",
    "\n",
    "if operation == \"+\":\n",
    "    result = num_1 + num_2\n",
    "    print(\"Result:\", result)\n",
    "elif operation == \"-\":\n",
    "    result = num_1 - num_2\n",
    "    print(\"Result:\", result)\n",
    "elif operation == \"*\":\n",
    "    result = num_1 * num_2\n",
    "    print(\"Result:\", result)\n",
    "elif operation == \"/\":\n",
    "    if num_2 != 0:\n",
    "        result = num_1 / num_2\n",
    "        print(\"Result:\", result)\n",
    "    else:\n",
    "        print(\"Error: Division by zero is not allowed.\")\n",
    "else:\n",
    "    print(\"Error: Invalid operation.\")\n"
   ]
  },
  {
   "cell_type": "code",
   "execution_count": 17,
   "id": "4c96fb1a",
   "metadata": {},
   "outputs": [
    {
     "name": "stdout",
     "output_type": "stream",
     "text": [
      "Result: 1\n"
     ]
    }
   ],
   "source": [
    "number_1=int(input(\"enter your first number :\"))    \n",
    "number_2=int(input(\"enter your second number :\"))\n",
    "operation=input(\"enter your operation (+, -, *, /): \")\n",
    "if operation == \"+\":\n",
    "    result = number_1 + number_2\n",
    "    print(\"Result:\", result)\n",
    "elif operation == \"-\":\n",
    "    result = number_1 - number_2\n",
    "    print(\"Result:\", result)    \n",
    "elif operation == \"*\":\n",
    "    result = number_1 * number_2\n",
    "    print(\"Result:\", result)\n",
    "elif operation == \"/\":\n",
    "    if number_2 != 0:\n",
    "        result = number_1 / number_2\n",
    "        print(\"Result:\", result)\n",
    "    else:\n",
    "        print(\"infinity\")\n",
    "else:\n",
    "    print(\"Error: Invalid operation.\")"
   ]
  },
  {
   "cell_type": "code",
   "execution_count": 1,
   "id": "5c38f688",
   "metadata": {},
   "outputs": [
    {
     "name": "stdout",
     "output_type": "stream",
     "text": [
      "Grade: C\n"
     ]
    }
   ],
   "source": [
    "# grading system \n",
    "marks = int(input(\"Enter your marks: \"))\n",
    "\n",
    "if marks >= 90:\n",
    "    print(\"Grade: A\")\n",
    "elif marks >= 80:\n",
    "    print(\"Grade: B\")\n",
    "elif marks >= 70:\n",
    "    print(\"Grade: C\")\n",
    "elif marks >= 60:\n",
    "    print(\"Grade: D\")\n",
    "elif marks >= 40:\n",
    "    print(\"do find another work than study\")\n",
    "else:\n",
    "    print(\"invalid marks\")\n"
   ]
  }
 ],
 "metadata": {
  "kernelspec": {
   "display_name": "Python 3",
   "language": "python",
   "name": "python3"
  },
  "language_info": {
   "codemirror_mode": {
    "name": "ipython",
    "version": 3
   },
   "file_extension": ".py",
   "mimetype": "text/x-python",
   "name": "python",
   "nbconvert_exporter": "python",
   "pygments_lexer": "ipython3",
   "version": "3.13.0"
  }
 },
 "nbformat": 4,
 "nbformat_minor": 5
}
