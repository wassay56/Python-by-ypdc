{
 "cells": [
  {
   "cell_type": "markdown",
   "id": "7b0217ac",
   "metadata": {},
   "source": [
    "# operator that do different operator\n",
    "1 arithemtic \n",
    "2 comparsion operator\n",
    "3 logical operator"
   ]
  },
  {
   "cell_type": "code",
   "execution_count": null,
   "id": "6e0ef3c9",
   "metadata": {},
   "outputs": [],
   "source": [
    "# Arithmetic Operations\n",
    "# sum\n",
    "# subtraction\n",
    "# multiplication\n",
    "# division\n",
    "# float division give approximate result\n",
    "# modulus give remainder of division\n",
    "  "
   ]
  },
  {
   "cell_type": "code",
   "execution_count": 3,
   "id": "0ad69bb4",
   "metadata": {},
   "outputs": [
    {
     "data": {
      "text/plain": [
       "2"
      ]
     },
     "execution_count": 3,
     "metadata": {},
     "output_type": "execute_result"
    }
   ],
   "source": [
    " \n",
    "5%3\n"
   ]
  },
  {
   "cell_type": "markdown",
   "id": "cc44b1ea",
   "metadata": {},
   "source": [
    "# comparsion operators \n",
    "comparsion operator to ask to do a comparsion and give answer in the true or false "
   ]
  },
  {
   "cell_type": "code",
   "execution_count": 4,
   "id": "e9a97ef4",
   "metadata": {},
   "outputs": [
    {
     "data": {
      "text/plain": [
       "False"
      ]
     },
     "execution_count": 4,
     "metadata": {},
     "output_type": "execute_result"
    }
   ],
   "source": [
    "56==65"
   ]
  },
  {
   "cell_type": "code",
   "execution_count": 5,
   "id": "412a5a7b",
   "metadata": {},
   "outputs": [
    {
     "data": {
      "text/plain": [
       "True"
      ]
     },
     "execution_count": 5,
     "metadata": {},
     "output_type": "execute_result"
    }
   ],
   "source": [
    "56!=65"
   ]
  },
  {
   "cell_type": "code",
   "execution_count": 6,
   "id": "b04d984d",
   "metadata": {},
   "outputs": [
    {
     "data": {
      "text/plain": [
       "True"
      ]
     },
     "execution_count": 6,
     "metadata": {},
     "output_type": "execute_result"
    }
   ],
   "source": [
    "56 < 65"
   ]
  },
  {
   "cell_type": "code",
   "execution_count": 7,
   "id": "28c724c8",
   "metadata": {},
   "outputs": [
    {
     "data": {
      "text/plain": [
       "False"
      ]
     },
     "execution_count": 7,
     "metadata": {},
     "output_type": "execute_result"
    }
   ],
   "source": [
    "56 > 65"
   ]
  },
  {
   "cell_type": "markdown",
   "id": "4eb390ab",
   "metadata": {},
   "source": [
    "Logical operators \n",
    "multiple operations are done if all condition are met then true otherwise it will be false \n",
    "if met then reverse the ressult \n",
    "3 types of logical operators \n"
   ]
  },
  {
   "cell_type": "markdown",
   "id": "91a74b89",
   "metadata": {},
   "source": [
    "# and operation \n",
    "both should be true then true \n",
    "other wise false "
   ]
  },
  {
   "cell_type": "code",
   "execution_count": 11,
   "id": "506e3bfc",
   "metadata": {},
   "outputs": [],
   "source": [
    "x = \"true\"\n",
    "y = \"false\"\n",
    "z = x and y"
   ]
  },
  {
   "cell_type": "code",
   "execution_count": 12,
   "id": "b31b5208",
   "metadata": {},
   "outputs": [
    {
     "data": {
      "text/plain": [
       "'false'"
      ]
     },
     "execution_count": 12,
     "metadata": {},
     "output_type": "execute_result"
    }
   ],
   "source": [
    "x and y "
   ]
  },
  {
   "cell_type": "code",
   "execution_count": 15,
   "id": "ffdcae12",
   "metadata": {},
   "outputs": [],
   "source": [
    "# or operator\n",
    "# if one condition meet it will true\n",
    "x = \"true\"\n",
    "y = \"false\"\n",
    "z = x or y\n"
   ]
  },
  {
   "cell_type": "code",
   "execution_count": 16,
   "id": "ce644c0a",
   "metadata": {},
   "outputs": [
    {
     "data": {
      "text/plain": [
       "'true'"
      ]
     },
     "execution_count": 16,
     "metadata": {},
     "output_type": "execute_result"
    }
   ],
   "source": [
    "x or y "
   ]
  },
  {
   "cell_type": "code",
   "execution_count": 17,
   "id": "03162e21",
   "metadata": {},
   "outputs": [],
   "source": [
    "x = \"false\"\n",
    "y = \"false\"\n"
   ]
  },
  {
   "cell_type": "code",
   "execution_count": 18,
   "id": "9920d157",
   "metadata": {},
   "outputs": [
    {
     "data": {
      "text/plain": [
       "'false'"
      ]
     },
     "execution_count": 18,
     "metadata": {},
     "output_type": "execute_result"
    }
   ],
   "source": [
    "x or y "
   ]
  },
  {
   "cell_type": "code",
   "execution_count": null,
   "id": "663eb6da",
   "metadata": {},
   "outputs": [],
   "source": [
    "# not operator \n",
    "x = \"true\""
   ]
  },
  {
   "cell_type": "code",
   "execution_count": 28,
   "id": "031ca1aa",
   "metadata": {},
   "outputs": [],
   "source": [
    "y = \"true\""
   ]
  },
  {
   "cell_type": "code",
   "execution_count": 29,
   "id": "beab673a",
   "metadata": {},
   "outputs": [
    {
     "data": {
      "text/plain": [
       "False"
      ]
     },
     "execution_count": 29,
     "metadata": {},
     "output_type": "execute_result"
    }
   ],
   "source": [
    "not y "
   ]
  },
  {
   "cell_type": "code",
   "execution_count": null,
   "id": "1ebd441e",
   "metadata": {},
   "outputs": [],
   "source": []
  }
 ],
 "metadata": {
  "kernelspec": {
   "display_name": "Python 3",
   "language": "python",
   "name": "python3"
  },
  "language_info": {
   "codemirror_mode": {
    "name": "ipython",
    "version": 3
   },
   "file_extension": ".py",
   "mimetype": "text/x-python",
   "name": "python",
   "nbconvert_exporter": "python",
   "pygments_lexer": "ipython3",
   "version": "3.13.0"
  }
 },
 "nbformat": 4,
 "nbformat_minor": 5
}
