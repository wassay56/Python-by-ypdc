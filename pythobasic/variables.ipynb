{
 "cells": [
  {
   "cell_type": "markdown",
   "id": "b0136490",
   "metadata": {},
   "source": [
    "variable \n",
    "a storage location that hold a value \n",
    "\n",
    "data types;\n",
    "value \n",
    "name "
   ]
  },
  {
   "cell_type": "code",
   "execution_count": 1,
   "id": "9c69b430",
   "metadata": {},
   "outputs": [],
   "source": [
    "## variable \n",
    "name = \"wassay\" # string\n",
    "age = 20 # int\n",
    "height = 5.10 # float\n",
    "a_student = True # bool"
   ]
  },
  {
   "cell_type": "code",
   "execution_count": 2,
   "id": "5216361d",
   "metadata": {},
   "outputs": [
    {
     "name": "stdout",
     "output_type": "stream",
     "text": [
      "wassay\n",
      "20\n",
      "5.1\n",
      "True\n"
     ]
    }
   ],
   "source": [
    "print(name)\n",
    "print(age)\n",
    "print(height)\n",
    "print(a_student)"
   ]
  },
  {
   "cell_type": "code",
   "execution_count": null,
   "id": "e953a3cd",
   "metadata": {},
   "outputs": [
    {
     "name": "stdout",
     "output_type": "stream",
     "text": [
      "<class 'str'>\n",
      "<class 'int'>\n",
      "<class 'float'>\n",
      "<class 'bool'>\n"
     ]
    }
   ],
   "source": [
    "# type information\n",
    "print(type(name))\n",
    "print(type(age))\n",
    "print(type(height))\n",
    "print(type(a_student))"
   ]
  },
  {
   "cell_type": "code",
   "execution_count": null,
   "id": "4bd677d3",
   "metadata": {},
   "outputs": [
    {
     "name": "stdout",
     "output_type": "stream",
     "text": [
      "<class 'int'>\n",
      "<class 'str'>\n"
     ]
    }
   ],
   "source": [
    "# python as a dynamic language\n",
    "variable = 966\n",
    "variable2 = \"966\"\n",
    "\n",
    "print(type(variable))\n",
    "print(type(variable2))"
   ]
  },
  {
   "cell_type": "code",
   "execution_count": null,
   "id": "fa41b116",
   "metadata": {},
   "outputs": [],
   "source": [
    "# naming conventions\n",
    "# always use smallcase letters\n",
    "# donot start with numbers\n",
    "# use _ to separate words\n",
    "# donot use special characters except _\n",
    "\n"
   ]
  },
  {
   "cell_type": "code",
   "execution_count": 6,
   "id": "f1b5d7fa",
   "metadata": {},
   "outputs": [
    {
     "name": "stdout",
     "output_type": "stream",
     "text": [
      "228\n"
     ]
    }
   ],
   "source": [
    "age = 19 \n",
    "age_in_months = age * 12\n",
    "\n",
    "print(age_in_months)    "
   ]
  },
  {
   "cell_type": "code",
   "execution_count": 7,
   "id": "9b28add0",
   "metadata": {},
   "outputs": [
    {
     "name": "stdout",
     "output_type": "stream",
     "text": [
      "31536000\n"
     ]
    }
   ],
   "source": [
    "age = 20 \n",
    "age_in_months = age * 12\n",
    "hours_in_a_year = 365 * 24\n",
    "seconds_in_a_year = hours_in_a_year * 60 * 60\n",
    "\n",
    "print(seconds_in_a_year)\n"
   ]
  },
  {
   "cell_type": "code",
   "execution_count": 9,
   "id": "c91dbfc9",
   "metadata": {},
   "outputs": [
    {
     "name": "stdout",
     "output_type": "stream",
     "text": [
      "630720000\n"
     ]
    }
   ],
   "source": [
    "total_seconds_in_age = 20 * 31536000\n",
    "\n",
    "print(total_seconds_in_age)\n"
   ]
  },
  {
   "cell_type": "code",
   "execution_count": 11,
   "id": "77535151",
   "metadata": {},
   "outputs": [
    {
     "name": "stdout",
     "output_type": "stream",
     "text": [
      "20.0\n"
     ]
    }
   ],
   "source": [
    "_convert_seconds_to_years = total_seconds_in_age / seconds_in_a_year\n",
    "\n",
    "print(_convert_seconds_to_years)\n"
   ]
  },
  {
   "cell_type": "code",
   "execution_count": 12,
   "id": "32972d3e",
   "metadata": {},
   "outputs": [
    {
     "name": "stdout",
     "output_type": "stream",
     "text": [
      "96.16666666666667\n"
     ]
    }
   ],
   "source": [
    "_obtained_marks = 1154\n",
    "_total_marks = 1200\n",
    "_percentage = (_obtained_marks / _total_marks) * 100\n",
    "\n",
    "print(_percentage)\n"
   ]
  },
  {
   "cell_type": "code",
   "execution_count": 14,
   "id": "fb59b310",
   "metadata": {},
   "outputs": [
    {
     "name": "stdout",
     "output_type": "stream",
     "text": [
      "Grade: A\n"
     ]
    }
   ],
   "source": [
    "if _percentage > 90:\n",
    "    print(\"Grade: A\")\n",
    "elif _percentage > 80:\n",
    "    print(\"Grade: B\")\n",
    "elif _percentage > 70:\n",
    "    print(\"Grade: C\")\n",
    "else:\n",
    "    print(\"Grade: D\")\n",
    "\n",
    "_studentA_percentage = 94\n",
    "_studentB_percentage = 84\n",
    "_studentC_percentage = 76\n",
    "_studentD_percentage = 40"
   ]
  },
  {
   "cell_type": "code",
   "execution_count": 15,
   "id": "e6bc87c4",
   "metadata": {},
   "outputs": [
    {
     "name": "stdout",
     "output_type": "stream",
     "text": [
      "Class Average Percentage: 73.5\n"
     ]
    }
   ],
   "source": [
    "_percentage = (_studentA_percentage + _studentB_percentage + _studentC_percentage + _studentD_percentage) / 4\n",
    "\n",
    "print(\"Class Average Percentage:\", _percentage)\n"
   ]
  },
  {
   "cell_type": "code",
   "execution_count": 16,
   "id": "e10624ae",
   "metadata": {},
   "outputs": [
    {
     "name": "stdout",
     "output_type": "stream",
     "text": [
      "Student A Percentage: 94\n",
      "Student B Percentage: 84\n",
      "Student C Percentage: 76\n",
      "Student D Percentage: 40\n"
     ]
    }
   ],
   "source": [
    "print(\"Student A Percentage:\", _studentA_percentage)\n",
    "print(\"Student B Percentage:\", _studentB_percentage)\n",
    "print(\"Student C Percentage:\", _studentC_percentage)\n",
    "print(\"Student D Percentage:\", _studentD_percentage)"
   ]
  },
  {
   "cell_type": "code",
   "execution_count": 18,
   "id": "8a751ec6",
   "metadata": {},
   "outputs": [
    {
     "name": "stdout",
     "output_type": "stream",
     "text": [
      "Student A Grade: A\n",
      "Student B Grade: B\n",
      "Student C Grade: C\n",
      "Student D Grade: D\n"
     ]
    }
   ],
   "source": [
    "grade_A = \"A\"\n",
    "grade_B = \"B\"\n",
    "grade_C = \"C\"\n",
    "grade_D = \"D\"\n",
    "\n",
    "print(\"Student A Grade:\", grade_A)\n",
    "print(\"Student B Grade:\", grade_B)\n",
    "print(\"Student C Grade:\", grade_C)\n",
    "print(\"Student D Grade:\", grade_D)\n"
   ]
  },
  {
   "cell_type": "code",
   "execution_count": 19,
   "id": "c561d57f",
   "metadata": {},
   "outputs": [],
   "source": [
    "#input_functionality \n",
    "\n",
    "input_studentA = int(input(\"Enter Student A Percentage: \"))\n",
    "input_studentB = int(input(\"Enter Student B Percentage: \"))\n",
    "input_studentC = int(input(\"Enter Student C Percentage: \"))\n",
    "input_studentD = int(input(\"Enter Student D Percentage: \"))\n",
    " "
   ]
  },
  {
   "cell_type": "code",
   "execution_count": 20,
   "id": "9753110e",
   "metadata": {},
   "outputs": [
    {
     "name": "stdout",
     "output_type": "stream",
     "text": [
      "94\n",
      "83\n",
      "44\n",
      "54\n"
     ]
    }
   ],
   "source": [
    "print(input_studentA)\n",
    "print(input_studentB)\n",
    "print(input_studentC)\n",
    "print(input_studentD)"
   ]
  },
  {
   "cell_type": "code",
   "execution_count": 21,
   "id": "f5c3ca79",
   "metadata": {},
   "outputs": [
    {
     "name": "stdout",
     "output_type": "stream",
     "text": [
      "<class 'int'>\n",
      "<class 'int'>\n",
      "<class 'int'>\n",
      "<class 'int'>\n"
     ]
    }
   ],
   "source": [
    "print(type(input_studentA))\n",
    "print(type(input_studentB))\n",
    "print(type(input_studentC))\n",
    "print(type(input_studentD))"
   ]
  },
  {
   "cell_type": "markdown",
   "id": "3ce8295a",
   "metadata": {},
   "source": [
    " #calculator \n",
    " "
   ]
  },
  {
   "cell_type": "code",
   "execution_count": 22,
   "id": "cd9d5136",
   "metadata": {},
   "outputs": [],
   "source": [
    "number_1 = int(input(\"Enter a number: \"))\n",
    "number_2 = int(input(\"Enter another number: \"))\n",
    "# calculator\n",
    "sum_result = number_1 + number_2\n",
    "division_result = number_1 / number_2\n",
    "subtraction_result = number_1 - number_2\n",
    "multiplication_result = number_1 * number_2\n"
   ]
  },
  {
   "cell_type": "code",
   "execution_count": 24,
   "id": "b452bbff",
   "metadata": {},
   "outputs": [
    {
     "name": "stdout",
     "output_type": "stream",
     "text": [
      "The division is: 1.2\n",
      "The subtraction is: 9\n",
      "The multiplication is: 2430\n"
     ]
    }
   ],
   "source": [
    "print(\"The division is:\", division_result)\n",
    "print(\"The subtraction is:\", subtraction_result)\n",
    "print(\"The multiplication is:\", multiplication_result)\n"
   ]
  },
  {
   "cell_type": "code",
   "execution_count": 25,
   "id": "3a36bef3",
   "metadata": {},
   "outputs": [
    {
     "name": "stdout",
     "output_type": "stream",
     "text": [
      "54\n",
      "45\n"
     ]
    }
   ],
   "source": [
    "print(number_1)\n",
    "print(number_2)"
   ]
  },
  {
   "cell_type": "code",
   "execution_count": 27,
   "id": "d8b99250",
   "metadata": {},
   "outputs": [
    {
     "name": "stdout",
     "output_type": "stream",
     "text": [
      "99\n"
     ]
    }
   ],
   "source": [
    "print(sum_result)"
   ]
  }
 ],
 "metadata": {
  "kernelspec": {
   "display_name": "Python 3",
   "language": "python",
   "name": "python3"
  },
  "language_info": {
   "codemirror_mode": {
    "name": "ipython",
    "version": 3
   },
   "file_extension": ".py",
   "mimetype": "text/x-python",
   "name": "python",
   "nbconvert_exporter": "python",
   "pygments_lexer": "ipython3",
   "version": "3.13.0"
  }
 },
 "nbformat": 4,
 "nbformat_minor": 5
}
