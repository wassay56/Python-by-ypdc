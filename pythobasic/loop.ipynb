{
 "cells": [
  {
   "cell_type": "markdown",
   "id": "024126d8",
   "metadata": {},
   "source": [
    "loop is a control strutcure that repeats the a block of code multiple times "
   ]
  },
  {
   "cell_type": "code",
   "execution_count": 1,
   "id": "985ea247",
   "metadata": {},
   "outputs": [
    {
     "name": "stdout",
     "output_type": "stream",
     "text": [
      "0 1 2 3 4 5 6 7 8 9 10 11 12 13 14 15 16 17 18 19 20 21 22 23 24 25 26 27 28 29 30 31 32 33 34 35 36 37 38 39 40 41 42 43 44 45 46 47 48 49 50 51 52 53 54 55 56 57 58 59 60 61 62 63 64 65 66 67 68 69 70 71 72 73 74 75 76 77 78 79 80 81 82 83 84 85 86 87 88 89 90 91 92 93 94 95 96 97 98 99 100 "
     ]
    }
   ],
   "source": [
    "for i in range(101):\n",
    "    print(i, end=' ')"
   ]
  },
  {
   "cell_type": "code",
   "execution_count": 8,
   "id": "8f74077f",
   "metadata": {},
   "outputs": [
    {
     "name": "stdout",
     "output_type": "stream",
     "text": [
      "Count of C: 4\n"
     ]
    }
   ],
   "source": [
    "dna_sequence = \"AGTCGCTATGCATTGCATAGAT\"\n",
    "count_c = 0\n",
    "for base in dna_sequence:\n",
    "    if base == \"C\":\n",
    "        count_c += 1\n",
    "print(\"Count of C:\", count_c)"
   ]
  },
  {
   "cell_type": "code",
   "execution_count": null,
   "id": "5365f61a",
   "metadata": {},
   "outputs": [],
   "source": []
  }
 ],
 "metadata": {
  "kernelspec": {
   "display_name": "Python 3",
   "language": "python",
   "name": "python3"
  },
  "language_info": {
   "codemirror_mode": {
    "name": "ipython",
    "version": 3
   },
   "file_extension": ".py",
   "mimetype": "text/x-python",
   "name": "python",
   "nbconvert_exporter": "python",
   "pygments_lexer": "ipython3",
   "version": "3.13.0"
  }
 },
 "nbformat": 4,
 "nbformat_minor": 5
}
