{
 "cells": [
  {
   "cell_type": "markdown",
   "id": "41e200c3",
   "metadata": {},
   "source": [
    "Data structure  well orgainzed heirarcy in python or programing language \n",
    "\n",
    "sets tuples dictonaires list \n",
    "\n",
    "\n",
    "data types \n",
    "  we store inside variable \n",
    "  integers booleans float string \n",
    "   \n"
   ]
  },
  {
   "cell_type": "code",
   "execution_count": null,
   "id": "8095f1da",
   "metadata": {},
   "outputs": [],
   "source": [
    "# list organized mutable accessible iterable data\n",
    "\n",
    " # how it is created \n",
    " # how to access it \n",
    " # how to modify it\n",
    " # list comprehension"
   ]
  },
  {
   "cell_type": "code",
   "execution_count": 1,
   "id": "39ad8300",
   "metadata": {},
   "outputs": [
    {
     "name": "stdout",
     "output_type": "stream",
     "text": [
      "<class 'list'>\n"
     ]
    }
   ],
   "source": [
    "variable = [1,3,4,5]\n",
    "\n",
    "print(type(variable))\n"
   ]
  },
  {
   "cell_type": "code",
   "execution_count": 2,
   "id": "88eed23b",
   "metadata": {},
   "outputs": [],
   "source": [
    "intro = ['wassay',1,2,3,4]"
   ]
  },
  {
   "cell_type": "code",
   "execution_count": 3,
   "id": "ad0b5721",
   "metadata": {},
   "outputs": [
    {
     "name": "stdout",
     "output_type": "stream",
     "text": [
      "['wassay', 1, 2, 3, 4]\n"
     ]
    }
   ],
   "source": [
    "print(intro)"
   ]
  },
  {
   "cell_type": "code",
   "execution_count": 4,
   "id": "9a17e73e",
   "metadata": {},
   "outputs": [],
   "source": [
    "animals = ['cat', 'dog', 'fish', 'bird']"
   ]
  },
  {
   "cell_type": "code",
   "execution_count": 5,
   "id": "4d1cf83d",
   "metadata": {},
   "outputs": [
    {
     "name": "stdout",
     "output_type": "stream",
     "text": [
      "['cat', 'dog', 'fish', 'bird']\n"
     ]
    }
   ],
   "source": [
    "print(animals)"
   ]
  },
  {
   "cell_type": "code",
   "execution_count": 9,
   "id": "6fdfa55a",
   "metadata": {},
   "outputs": [
    {
     "name": "stdout",
     "output_type": "stream",
     "text": [
      "['cat', 'dog', 'fish']\n"
     ]
    }
   ],
   "source": [
    "print(animals[0:3])"
   ]
  },
  {
   "cell_type": "code",
   "execution_count": 12,
   "id": "b54266fa",
   "metadata": {},
   "outputs": [
    {
     "name": "stdout",
     "output_type": "stream",
     "text": [
      "4\n"
     ]
    }
   ],
   "source": [
    "number = [\n",
    "    [1, 2, 3],\n",
    "    [4, 5, 6],\n",
    "    [7, 8, 9]\n",
    "]\n",
    "\n",
    "print(number[1][0])"
   ]
  },
  {
   "cell_type": "code",
   "execution_count": 13,
   "id": "7039f3fc",
   "metadata": {},
   "outputs": [
    {
     "name": "stdout",
     "output_type": "stream",
     "text": [
      "[90, 95, 83, 97]\n"
     ]
    }
   ],
   "source": [
    "marks = [85, 90, 78, 92]\n",
    "new_marks = [mark + 5 for mark in  marks]\n",
    "print(new_marks)    \n"
   ]
  },
  {
   "cell_type": "code",
   "execution_count": 15,
   "id": "5e522d88",
   "metadata": {},
   "outputs": [
    {
     "name": "stdout",
     "output_type": "stream",
     "text": [
      "[8, 27, 64, 125, 216, 343]\n"
     ]
    }
   ],
   "source": [
    "cube = [x**3 for x in range(2, 8)]\n",
    "print(cube)"
   ]
  },
  {
   "cell_type": "code",
   "execution_count": null,
   "id": "397bf963",
   "metadata": {},
   "outputs": [],
   "source": []
  },
  {
   "cell_type": "code",
   "execution_count": null,
   "id": "37bf3b5c",
   "metadata": {},
   "outputs": [],
   "source": []
  }
 ],
 "metadata": {
  "kernelspec": {
   "display_name": "Python 3",
   "language": "python",
   "name": "python3"
  },
  "language_info": {
   "codemirror_mode": {
    "name": "ipython",
    "version": 3
   },
   "file_extension": ".py",
   "mimetype": "text/x-python",
   "name": "python",
   "nbconvert_exporter": "python",
   "pygments_lexer": "ipython3",
   "version": "3.13.0"
  }
 },
 "nbformat": 4,
 "nbformat_minor": 5
}
