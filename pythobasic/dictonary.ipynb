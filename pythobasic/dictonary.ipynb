{
 "cells": [
  {
   "cell_type": "markdown",
   "id": "0f714891",
   "metadata": {},
   "source": [
    "# Dictonary in python \n",
    "      is a collection of key_values pairs act as map to value and always a uniques\n",
    "      act as labels \n",
    "      value is a data attributed with the key\n",
    "      "
   ]
  },
  {
   "cell_type": "code",
   "execution_count": 3,
   "id": "99e70cae",
   "metadata": {},
   "outputs": [
    {
     "name": "stdout",
     "output_type": "stream",
     "text": [
      "<class 'dict'>\n"
     ]
    }
   ],
   "source": [
    "# syntax \n",
    "\n",
    "dict = {}\n",
    " \n",
    "print(type(dict))\n"
   ]
  },
  {
   "cell_type": "code",
   "execution_count": 6,
   "id": "365b8367",
   "metadata": {},
   "outputs": [
    {
     "name": "stdout",
     "output_type": "stream",
     "text": [
      "{'name': 'John', 'age': 30, 'remarks': 'true'}\n"
     ]
    }
   ],
   "source": [
    "#example no 1 \n",
    "\n",
    "dict_1 = {'name': 'John', 'age': 30, 'remarks': 'true'}\n",
    "\n",
    "print(dict_1)   "
   ]
  },
  {
   "cell_type": "code",
   "execution_count": 14,
   "id": "658dc7ed",
   "metadata": {},
   "outputs": [],
   "source": [
    "dict_1 = {\"a\": 1}\n",
    "del dict_1  \n"
   ]
  },
  {
   "cell_type": "code",
   "execution_count": 20,
   "id": "cca9a030",
   "metadata": {},
   "outputs": [],
   "source": [
    "del dict"
   ]
  },
  {
   "cell_type": "code",
   "execution_count": 22,
   "id": "a8ef6cb2",
   "metadata": {},
   "outputs": [],
   "source": [
    "intro = dict(name='wassay', age=20, city='lahore')\n"
   ]
  },
  {
   "cell_type": "code",
   "execution_count": 23,
   "id": "f3067ecf",
   "metadata": {},
   "outputs": [
    {
     "name": "stdout",
     "output_type": "stream",
     "text": [
      "{'name': 'wassay', 'age': 20, 'city': 'lahore'}\n"
     ]
    }
   ],
   "source": [
    "print(intro)\n"
   ]
  },
  {
   "cell_type": "code",
   "execution_count": 26,
   "id": "f0219c90",
   "metadata": {},
   "outputs": [
    {
     "name": "stdout",
     "output_type": "stream",
     "text": [
      "wassay\n"
     ]
    }
   ],
   "source": [
    "# accession number\n",
    "print(intro['name'])"
   ]
  },
  {
   "cell_type": "code",
   "execution_count": 27,
   "id": "08c22a7b",
   "metadata": {},
   "outputs": [
    {
     "name": "stdout",
     "output_type": "stream",
     "text": [
      "lahore\n"
     ]
    }
   ],
   "source": [
    "print(intro['city'])"
   ]
  },
  {
   "cell_type": "code",
   "execution_count": 31,
   "id": "cf6efdfa",
   "metadata": {},
   "outputs": [],
   "source": [
    "# update a key \n",
    "\n",
    "intro['name'] = 'Haider'"
   ]
  },
  {
   "cell_type": "code",
   "execution_count": 32,
   "id": "cb7d36b4",
   "metadata": {},
   "outputs": [
    {
     "name": "stdout",
     "output_type": "stream",
     "text": [
      "{'name': 'Haider', 'age': 20, 'city': 'lahore'}\n"
     ]
    }
   ],
   "source": [
    "print(intro)"
   ]
  },
  {
   "cell_type": "code",
   "execution_count": 33,
   "id": "cb85ddf5",
   "metadata": {},
   "outputs": [
    {
     "name": "stdout",
     "output_type": "stream",
     "text": [
      "dict_keys(['name', 'age', 'city'])\n"
     ]
    }
   ],
   "source": [
    "# acess key\n",
    "\n",
    "keys = intro.keys()\n",
    "print(keys)"
   ]
  },
  {
   "cell_type": "code",
   "execution_count": 34,
   "id": "fd43edb4",
   "metadata": {},
   "outputs": [
    {
     "name": "stdout",
     "output_type": "stream",
     "text": [
      "dict_values(['Haider', 20, 'lahore'])\n"
     ]
    }
   ],
   "source": [
    "# acession value \n",
    "\n",
    "values = intro.values()\n",
    "print(values)\n"
   ]
  },
  {
   "cell_type": "code",
   "execution_count": 35,
   "id": "a00d269c",
   "metadata": {},
   "outputs": [
    {
     "name": "stdout",
     "output_type": "stream",
     "text": [
      "dict_items([('name', 'Haider'), ('age', 20), ('city', 'lahore')])\n"
     ]
    }
   ],
   "source": [
    "# product\n",
    "\n",
    "product = intro.items()\n",
    "print(product)"
   ]
  },
  {
   "cell_type": "code",
   "execution_count": 36,
   "id": "409a4042",
   "metadata": {},
   "outputs": [
    {
     "name": "stdout",
     "output_type": "stream",
     "text": [
      "20\n"
     ]
    }
   ],
   "source": [
    " # removing and return the value\n",
    "\n",
    "removed_value = intro.pop('age')\n",
    "print(removed_value)"
   ]
  },
  {
   "cell_type": "code",
   "execution_count": 37,
   "id": "e921126c",
   "metadata": {},
   "outputs": [
    {
     "name": "stdout",
     "output_type": "stream",
     "text": [
      "{'name': 'Haider', 'city': 'lahore'}\n"
     ]
    }
   ],
   "source": [
    "print(intro)"
   ]
  },
  {
   "cell_type": "code",
   "execution_count": 38,
   "id": "71080177",
   "metadata": {},
   "outputs": [],
   "source": [
    "del intro['city']"
   ]
  },
  {
   "cell_type": "code",
   "execution_count": 43,
   "id": "03c544a5",
   "metadata": {},
   "outputs": [],
   "source": [
    "dict_1 = {'name': 'John', 'age': 30, 'remarks': 'true'} "
   ]
  },
  {
   "cell_type": "code",
   "execution_count": 45,
   "id": "f208f4de",
   "metadata": {},
   "outputs": [
    {
     "name": "stdout",
     "output_type": "stream",
     "text": [
      "{'name': 'John', 'age': 30, 'remarks': 'true'}\n"
     ]
    }
   ],
   "source": [
    "print(dict_1)"
   ]
  },
  {
   "cell_type": "code",
   "execution_count": 48,
   "id": "9000e0c5",
   "metadata": {},
   "outputs": [
    {
     "data": {
      "text/plain": [
       "<function dict.clear()>"
      ]
     },
     "execution_count": 48,
     "metadata": {},
     "output_type": "execute_result"
    }
   ],
   "source": [
    "dict_1.clear"
   ]
  },
  {
   "cell_type": "code",
   "execution_count": 49,
   "id": "ca9d31e1",
   "metadata": {},
   "outputs": [
    {
     "name": "stdout",
     "output_type": "stream",
     "text": [
      "{'name': 'John', 'age': 30, 'remarks': 'true'}\n"
     ]
    }
   ],
   "source": [
    "print(dict_1)"
   ]
  },
  {
   "cell_type": "code",
   "execution_count": 50,
   "id": "8dee6b1f",
   "metadata": {},
   "outputs": [],
   "source": [
    "my_data = dict(name='wassay', age=20, city='lahore', country='pakistan', position=\"content writer \")"
   ]
  },
  {
   "cell_type": "code",
   "execution_count": 51,
   "id": "a316b97a",
   "metadata": {},
   "outputs": [
    {
     "name": "stdout",
     "output_type": "stream",
     "text": [
      "{'name': 'wassay', 'age': 20, 'city': 'lahore', 'country': 'pakistan', 'position': 'content writer '}\n"
     ]
    }
   ],
   "source": [
    "print(my_data)"
   ]
  },
  {
   "cell_type": "code",
   "execution_count": 52,
   "id": "d7afcc16",
   "metadata": {},
   "outputs": [],
   "source": [
    "# shallow copy\n",
    "\n",
    "new_data=my_data.copy()"
   ]
  },
  {
   "cell_type": "code",
   "execution_count": 53,
   "id": "c9396e13",
   "metadata": {},
   "outputs": [],
   "source": [
    "my_data['name']='haider'\n"
   ]
  },
  {
   "cell_type": "code",
   "execution_count": 56,
   "id": "6ee3d9c3",
   "metadata": {},
   "outputs": [
    {
     "name": "stdout",
     "output_type": "stream",
     "text": [
      "{'name': 'wassay', 'age': 20, 'city': 'lahore', 'country': 'pakistan', 'position': 'content writer '}\n",
      "{'name': 'haider', 'age': 20, 'city': 'lahore', 'country': 'pakistan', 'position': 'content writer '}\n"
     ]
    }
   ],
   "source": [
    "print(new_data)\n",
    "print(my_data)\n"
   ]
  },
  {
   "cell_type": "code",
   "execution_count": 57,
   "id": "94f4d596",
   "metadata": {},
   "outputs": [
    {
     "name": "stdout",
     "output_type": "stream",
     "text": [
      "name : haider\n",
      "age : 20\n",
      "city : lahore\n",
      "country : pakistan\n",
      "position : content writer \n"
     ]
    }
   ],
   "source": [
    "for key in my_data:\n",
    "    print(key, \":\", my_data[key])"
   ]
  },
  {
   "cell_type": "code",
   "execution_count": 58,
   "id": "d76bf243",
   "metadata": {},
   "outputs": [
    {
     "name": "stdout",
     "output_type": "stream",
     "text": [
      "name : wassay\n",
      "age : 20\n",
      "city : lahore\n",
      "country : pakistan\n",
      "position : content writer \n"
     ]
    }
   ],
   "source": [
    "for key in new_data:\n",
    "    print(key, \":\", new_data[key])"
   ]
  },
  {
   "cell_type": "code",
   "execution_count": 59,
   "id": "e55d1108",
   "metadata": {},
   "outputs": [
    {
     "name": "stdout",
     "output_type": "stream",
     "text": [
      "haider\n",
      "20\n",
      "lahore\n",
      "pakistan\n",
      "content writer \n",
      "wassay\n",
      "20\n",
      "lahore\n",
      "pakistan\n",
      "content writer \n"
     ]
    }
   ],
   "source": [
    "for v in my_data.values():\n",
    "    print(v)\n",
    "\n",
    "for v in new_data.values():\n",
    "    print(v)\n"
   ]
  },
  {
   "cell_type": "code",
   "execution_count": 64,
   "id": "067dd5d7",
   "metadata": {},
   "outputs": [
    {
     "name": "stdout",
     "output_type": "stream",
     "text": [
      "{'python': 1}\n",
      "{'python': 1, 'is': 1}\n",
      "{'python': 1, 'is': 1, 'a': 1}\n",
      "{'python': 1, 'is': 1, 'a': 1, 'powerful': 1}\n",
      "{'python': 1, 'is': 1, 'a': 1, 'powerful': 1, 'and': 1}\n",
      "{'python': 1, 'is': 1, 'a': 1, 'powerful': 1, 'and': 1, 'it': 1}\n",
      "{'python': 1, 'is': 2, 'a': 1, 'powerful': 1, 'and': 1, 'it': 1}\n",
      "{'python': 1, 'is': 2, 'a': 1, 'powerful': 1, 'and': 1, 'it': 1, 'handy': 1}\n",
      "{'python': 1, 'is': 2, 'a': 1, 'powerful': 1, 'and': 1, 'it': 1, 'handy': 1, 'to': 1}\n",
      "{'python': 1, 'is': 2, 'a': 1, 'powerful': 1, 'and': 1, 'it': 1, 'handy': 1, 'to': 1, 'use': 1}\n",
      "{'python': 2, 'is': 2, 'a': 1, 'powerful': 1, 'and': 1, 'it': 1, 'handy': 1, 'to': 1, 'use': 1}\n",
      "{'python': 2, 'is': 2, 'a': 1, 'powerful': 1, 'and': 1, 'it': 1, 'handy': 1, 'to': 1, 'use': 1, 'programming': 1}\n"
     ]
    }
   ],
   "source": [
    "# real world example\n",
    "\n",
    "sentence = \"python is a powerful and it is handy to use python programming \"\n",
    "\n",
    "word = sentence.split()\n",
    "word_count = {}\n",
    "\n",
    "for word in word:\n",
    "    word_count[word] = word_count.get(word, 0) + 1 \n",
    "\n",
    "    print(word_count)\n"
   ]
  },
  {
   "cell_type": "code",
   "execution_count": 63,
   "id": "489afbf7",
   "metadata": {},
   "outputs": [
    {
     "name": "stdout",
     "output_type": "stream",
     "text": [
      "{'python': 2, 'is': 2, 'a': 1, 'powerful': 1, 'and': 1, 'it': 1, 'handy': 1, 'to': 1, 'use': 1, 'programming': 1}\n"
     ]
    }
   ],
   "source": [
    "print(word_count)"
   ]
  },
  {
   "cell_type": "code",
   "execution_count": 66,
   "id": "9b0c4c41",
   "metadata": {},
   "outputs": [],
   "source": [
    "# next dictonary \n",
    "\n",
    "next = {\"22\": {'name':'wassay', 'degree':'Agri biotech', 'hobbies':\"reading\"  }}"
   ]
  },
  {
   "cell_type": "code",
   "execution_count": 67,
   "id": "3ad8547c",
   "metadata": {},
   "outputs": [
    {
     "name": "stdout",
     "output_type": "stream",
     "text": [
      "{'name': 'wassay', 'degree': 'Agri biotech', 'hobbies': 'reading'}\n"
     ]
    }
   ],
   "source": [
    "print(next[\"22\"])"
   ]
  },
  {
   "cell_type": "code",
   "execution_count": 73,
   "id": "97bec9d8",
   "metadata": {},
   "outputs": [
    {
     "name": "stdout",
     "output_type": "stream",
     "text": [
      "{'sugarcane': 1400, 'rice': 4500, 'wheat': 2800, 'maize': 3200}\n",
      "sugarcane : 1400\n",
      "rice : 4500\n",
      "wheat : 2800\n",
      "maize : 3200\n"
     ]
    }
   ],
   "source": [
    "# real exapmle\n",
    "\n",
    "crop_price={\n",
    "    \"sugarcane\": 1400,\n",
    "    \"rice\" : 4500,\n",
    "    \"wheat\": 2800\n",
    "}\n",
    "\n",
    "crop_price[\"maize\"]= 3200\n",
    "\n",
    "print(crop_price)\n",
    "\n",
    "for key in crop_price:\n",
    "    print(key, \":\", crop_price[key])"
   ]
  },
  {
   "cell_type": "code",
   "execution_count": 74,
   "id": "1ec76328",
   "metadata": {},
   "outputs": [
    {
     "name": "stdout",
     "output_type": "stream",
     "text": [
      "{'sugarcane': 1400, 'rice': 4300, 'wheat': 2200, 'maize': 3200}\n"
     ]
    }
   ],
   "source": [
    "crop_price[\"rice\"] = 4300\n",
    "crop_price[\"wheat\"] = 2200\n",
    "\n",
    "print(crop_price)\n"
   ]
  }
 ],
 "metadata": {
  "kernelspec": {
   "display_name": "Python 3",
   "language": "python",
   "name": "python3"
  },
  "language_info": {
   "codemirror_mode": {
    "name": "ipython",
    "version": 3
   },
   "file_extension": ".py",
   "mimetype": "text/x-python",
   "name": "python",
   "nbconvert_exporter": "python",
   "pygments_lexer": "ipython3",
   "version": "3.13.0"
  }
 },
 "nbformat": 4,
 "nbformat_minor": 5
}
