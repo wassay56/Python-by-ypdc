{
 "cells": [
  {
   "cell_type": "markdown",
   "id": "8b6353f4",
   "metadata": {},
   "source": [
    "function is a block of code use to perform same task again and again and thus making the code resuable\n"
   ]
  },
  {
   "cell_type": "code",
   "execution_count": 1,
   "id": "cc139c5c",
   "metadata": {},
   "outputs": [
    {
     "name": "stdout",
     "output_type": "stream",
     "text": [
      "hello,wassay\n"
     ]
    }
   ],
   "source": [
    "def greet(name):\n",
    "    return f\"hello,{name}\"\n",
    "\n",
    "print(greet(\"wassay\"))"
   ]
  }
 ],
 "metadata": {
  "kernelspec": {
   "display_name": "Python 3",
   "language": "python",
   "name": "python3"
  },
  "language_info": {
   "codemirror_mode": {
    "name": "ipython",
    "version": 3
   },
   "file_extension": ".py",
   "mimetype": "text/x-python",
   "name": "python",
   "nbconvert_exporter": "python",
   "pygments_lexer": "ipython3",
   "version": "3.13.0"
  }
 },
 "nbformat": 4,
 "nbformat_minor": 5
}
